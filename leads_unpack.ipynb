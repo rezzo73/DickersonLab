{
 "cells": [
  {
   "cell_type": "code",
   "execution_count": 223,
   "metadata": {},
   "outputs": [],
   "source": [
    "import io, os, sys, types\n",
    "from IPython import get_ipython\n",
    "from nbformat import read\n",
    "from IPython.core.interactiveshell import InteractiveShell\n",
    "\n",
    "import re\n",
    "import glob\n",
    "import os\n",
    "import pandas as pd\n",
    "from os import system\n",
    "import csv\n",
    "from nipype.interfaces.freesurfer import MRIConvert\n",
    "import subprocess\n",
    "#import nbpackage.mynotebook\n",
    "\n",
    "dicomdir = \"/cluster/animal/scan_data/leads/LEADS/\"\n",
    "reconlog = \"/autofs/cluster/animal/scan_data/leads/recon/recon.log\"\n",
    "recondir = \"/autofs/cluster/animal/scan_data/leads/recon/\"\n",
    "folders = [x for x in os.listdir(dicomdir) if not x.startswith(\".\")]\n",
    "\n",
    "# wipe clean execute.recon.list ----------------- either end of file or here?\n",
    "open(recondir+'execute.recon.list', 'w').close()\n",
    "pswd= ''"
   ]
  },
  {
   "cell_type": "code",
   "execution_count": 224,
   "metadata": {},
   "outputs": [],
   "source": [
    "def parse_scaninfo(origpath):\n",
    "    with open(origpath+'/scan.info', 'r') as in_file:\n",
    "        editline = line.split()\n",
    "        with open(origpath+'/scaninfo.csv', 'w') as result:\n",
    "            wr = csv.writer(result, dialect='excel')\n",
    "            wr.writerow(editline)\n",
    "            result.close()\n",
    "    in_file.close()"
   ]
  },
  {
   "cell_type": "code",
   "execution_count": 225,
   "metadata": {},
   "outputs": [
    {
     "name": "stdout",
     "output_type": "stream",
     "text": [
      "yes\n"
     ]
    }
   ],
   "source": [
    "for substring in folders:\n",
    "    subjectdir = recondir+substring\n",
    "    #if substring not in open(reconlog).read():\n",
    "    if \"_\" not in substring:  \n",
    "        print('yes')"
   ]
  },
  {
   "cell_type": "code",
   "execution_count": 226,
   "metadata": {},
   "outputs": [
    {
     "name": "stdout",
     "output_type": "stream",
     "text": [
      "unpackingLDS0110021 ----------------------- \n",
      "CPU times: user 23 ms, sys: 21 ms, total: 44.1 ms\n",
      "Wall time: 47.2 s\n"
     ]
    }
   ],
   "source": [
    "%%time \n",
    "# APPROX Wall time: 46.5 s PER SUBJECT\n",
    "\n",
    "# load in new version of excel doc from LONI with exclusion criteria (add comments to ours somehow)\n",
    "\n",
    "for substring in folders:\n",
    "    subjectdir = recondir+substring\n",
    "    #if substring not in open(reconlog).read():\n",
    "    if \"_\" not in substring:    \n",
    "        print('unpacking ' + substring + \" ----------------------- \")\n",
    "        os.makedirs(recondir+substring+'/mri/orig/')\n",
    "        \n",
    "        # check number of date folders; check number of session folders\n",
    "        MPRAGE_list = glob.glob(dicomdir+substring + '/Accelerated_Sagittal_MPRAGE/*/*/', recursive=True)\n",
    "\n",
    "        if len(MPRAGE_list) > 1:\n",
    "            print(\"There are multiple MPRAGEs for \"+substring+\". Unpacking only the first; check others.\")\n",
    "        \n",
    "        # for now, proceed with unpacking only the first valid run (given multiple)\n",
    "        # check for errors and record RUN#\n",
    "        cmdstring = 'unpacksdcmdir -src %s -targ %s -scanonly %s/scan.info' % (MPRAGE_list[0], subjectdir, subjectdir)\n",
    "        system(cmdstring)\n",
    "\n",
    "        parse_scaninfo(subjectdir)\n",
    "        scan_info = pd.read_csv(subjectdir+'/scaninfo.csv', header=None)\n",
    "        check = scan_info.iloc[0,2] # first row (only row); second col (validity)\n",
    "        \n",
    "        #convert from dicom's MPRAGE to mgz (allow for more than one)\n",
    "        if check != 'ok':\n",
    "            print(MPRAGE_list[0]+\" IS AN INVALID RUN (I.E. NEEDS TO BE OMMITTED FROM ANALYSIS). SKIPPING THE UNPACKING.\")\n",
    "        else:\n",
    "            # make list of all files within MPRAGE_list[0]\n",
    "            dicomlist = os.listdir(MPRAGE_list[0])\n",
    "            with open(subjectdir+'/dicomlist.txt', 'w') as f:\n",
    "                for item in dicomlist:\n",
    "                    f.write(\"%s%s\\n\" % (subjectdir, '/'+item))\n",
    "                    \n",
    "            mc = MRIConvert()\n",
    "            mc.inputs.in_file = MPRAGE_list[0]+os.listdir(MPRAGE_list[0])[0] # first file\n",
    "            #mc.inputs.sdcm_list = subjectdir+'/dicomlist.txt' # no need for this\n",
    "            mc.inputs.out_file = subjectdir+'/mri/orig/001.mgz'\n",
    "            mc.inputs.out_type = 'mgz'\n",
    "            system(mc.cmdline)\n",
    "\n",
    "            #obtain date: must change folder names in both leadsir/recon and /leadsdir/LEADS\n",
    "            datestring = scan_info.iloc[0,7]\n",
    "            date = re.search('raw_'+r'+[0-9][0-9][0-9][0-9][0-9][0-9][0-9][0-9]', datestring).group()[4:]\n",
    "\n",
    "            #rename both folders\n",
    "            os.rename(recondir+substring, recondir+substring+'_'+date)\n",
    "            os.rename(dicomdir+substring, dicomdir+substring+'_'+date)\n",
    "            \n",
    "            # create execute.recon.list to launch recon list\n",
    "            with open(recondir+'execute.recon.list', \"a\") as myfile:\n",
    "                myfile.write(substring+'_'+date)\n",
    "\n",
    "            ##add substring to log\n",
    "            with open(reconlog, \"a\") as myfile:\n",
    "                myfile.write(substring+'_'+date)\n",
    "    \n"
   ]
  },
  {
   "cell_type": "code",
   "execution_count": 236,
   "metadata": {},
   "outputs": [
    {
     "name": "stdout",
     "output_type": "stream",
     "text": [
      "['ssh', 'rje@launchpad', 'bash -s', '<', '/autofs/cluster/animal/scan_data/leads/recon/execute.recon.sh']\n"
     ]
    }
   ],
   "source": [
    "import shlex\n",
    "# works but not I just need to do this through launchpad\n",
    "origcall = \"ssh rje@launchpad 'bash -s' < /autofs/cluster/animal/scan_data/leads/recon/execute.recon.sh\"\n",
    "listcall = shlex.split(origcall)\n",
    "print(listcall)\n",
    "#subprocess.call(recondir+'execute.recon.sh', shell=True)"
   ]
  },
  {
   "cell_type": "code",
   "execution_count": 235,
   "metadata": {},
   "outputs": [
    {
     "data": {
      "text/plain": [
       "'/autofs/cluster/animal/scan_data/leads/recon/execute.recon.sh'"
      ]
     },
     "execution_count": 235,
     "metadata": {},
     "output_type": "execute_result"
    }
   ],
   "source": [
    "recondir+'execute.recon.sh'"
   ]
  },
  {
   "cell_type": "code",
   "execution_count": 109,
   "metadata": {},
   "outputs": [
    {
     "data": {
      "text/plain": [
       "'/autofs/cluster/animal/scan_data/leads/recon/LDS0110021'"
      ]
     },
     "execution_count": 109,
     "metadata": {},
     "output_type": "execute_result"
    }
   ],
   "source": [
    "        # the scan.info file only has ONE run (because every run's dicoms are in separate folders)\n",
    "#         unpack = UnpackSDICOMDir()\n",
    "#         unpack.inputs.source_dir = MPRAGE_list[0]\n",
    "#         unpack.inputs.output_dir = subjectdir\n",
    "#         unpack.inputs.run_info = (1, 'mprage', 'nii', 'struct')\n",
    "#         unpack.inputs.dir_structure = 'generic'\n",
    "#         unpack.cmdline\n",
    "subjectdir"
   ]
  },
  {
   "cell_type": "code",
   "execution_count": 230,
   "metadata": {},
   "outputs": [
    {
     "name": "stdout",
     "output_type": "stream",
     "text": [
      "ssh rje11@launchpad 'bash -s' < /autofs/cluster/animal/scan_data/leads/recon/execute.recon.sh\n"
     ]
    },
    {
     "data": {
      "text/plain": [
       "256"
      ]
     },
     "execution_count": 230,
     "metadata": {},
     "output_type": "execute_result"
    }
   ],
   "source": [
    "# only thing left is to run the bash script execute.recon on launchpad\n",
    "\n",
    "#from paramiko import SSHClient\n",
    "import paramiko\n",
    "import sys\n",
    "\n",
    "hostname= 'launchpad'\n",
    "username=\"rje11\"\n",
    "command = 'ls'\n",
    "\n",
    "client = paramiko.Transport((hostname, port))\n",
    "client.connent(username=username, password=pswd)\n",
    "\n",
    "stdout_data = []\n",
    "stderr_data = []\n",
    "session = client.open_channel(kind='session')\n",
    "session.exec_command(command)\n",
    "\n",
    "\n",
    "print\n",
    "\n",
    "\n",
    "# # run the script for recon (will read in the execute.recon.list to execute.recon:\n",
    "# cmd = \"ssh rje11@launchpad 'bash -s' < /autofs/cluster/animal/scan_data/leads/recon/execute.recon.sh\"\n",
    "# system(cmd)\n",
    "\n",
    "\n",
    "\n",
    "\n",
    "\n"
   ]
  },
  {
   "cell_type": "code",
   "execution_count": 164,
   "metadata": {},
   "outputs": [
    {
     "data": {
      "text/plain": [
       "'20181016'"
      ]
     },
     "execution_count": 164,
     "metadata": {},
     "output_type": "execute_result"
    }
   ],
   "source": [
    "scan_info = pd.read_csv(subjectdir+'/scaninfo.csv', header=None)\n",
    "datestring = scan_info.iloc[0,7]\n",
    "date = re.search('raw_'+r'+[0-9][0-9][0-9][0-9][0-9][0-9][0-9][0-9]', datestring).group()[4:]\n",
    "date\n",
    "\n",
    "# use re to extract date from this string (first 8 digits after raw_) # is this the same for non-MPRAGES?"
   ]
  },
  {
   "cell_type": "code",
   "execution_count": 127,
   "metadata": {},
   "outputs": [
    {
     "data": {
      "text/plain": [
       "'/autofs/cluster/animal/scan_data/leads/recon/LDS0110021'"
      ]
     },
     "execution_count": 127,
     "metadata": {},
     "output_type": "execute_result"
    }
   ],
   "source": [
    "subjectdir"
   ]
  },
  {
   "cell_type": "code",
   "execution_count": 128,
   "metadata": {},
   "outputs": [
    {
     "data": {
      "text/plain": [
       "'/cluster/animal/scan_data/leads/LEADS/LDS0110021/Accelerated_Sagittal_MPRAGE/2018-10-16_09_44_47.0/S736558/LEADS_LDS0110021_MR_Accelerated_Sagittal_MPRAGE__br_raw_20181016131243397_163_S736558_I1060269.dcm'"
      ]
     },
     "execution_count": 128,
     "metadata": {},
     "output_type": "execute_result"
    }
   ],
   "source": [
    "#/autofs/cluster/animal/scan_data/leads/recon/LDS0110021/mri/orig/\n",
    "MPRAGE_list[0]+os.listdir(MPRAGE_list[0])[0]\n",
    "#/cluster/animal/scan_data/leads/LEADS/LDS0110021/Accelerated_Sagittal_MPRAGE/*/*/`ls /cluster/animal/scan_data/leads/LEADS/LDS0110021/Accelerated_Sagittal_MPRAGE/*/*/ | head -n 1`"
   ]
  },
  {
   "cell_type": "code",
   "execution_count": null,
   "metadata": {},
   "outputs": [],
   "source": [
    "#         mri_convert /cluster/animal/scan_data/leads/LEADS/$substring/Accelerated_Sagittal_MPRAGE/\n",
    "# */*/`ls /cluster/animal/scan_data/leads/LEADS/$substring/Accelerated_Sagittal_MPRAGE/*/*/ | head -n 1` /au\n",
    "# tofs/cluster/animal/scan_data/leads/recon/$substring/mri/orig/001.mgz"
   ]
  },
  {
   "cell_type": "code",
   "execution_count": 213,
   "metadata": {},
   "outputs": [
    {
     "ename": "SyntaxError",
     "evalue": "invalid syntax (<ipython-input-213-edef1c1b2e2d>, line 8)",
     "output_type": "error",
     "traceback": [
      "\u001b[0;36m  File \u001b[0;32m\"<ipython-input-213-edef1c1b2e2d>\"\u001b[0;36m, line \u001b[0;32m8\u001b[0m\n\u001b[0;31m    line5 = # read line from file\u001b[0m\n\u001b[0m                                 ^\u001b[0m\n\u001b[0;31mSyntaxError\u001b[0m\u001b[0;31m:\u001b[0m invalid syntax\n"
     ]
    }
   ],
   "source": [
    "# bash file is created separately (in terminal) for now\n",
    "# create bash file to eventually launch with ssh\n",
    "# reconbash = recondir+\"execute.recon.sh\" \n",
    "# line0 = '#!/bin/bash;\\n'\n",
    "# line1 = 'setenv FREESURFER_HOME /usr/local/freesurfer/stable6_0_0;\\n'\n",
    "# line2 = 'source $FREESURFER_HOME/SetUpFreeSurfer.csh;\\n'\n",
    "# line3 = 'setenv SUBJECTS_DIR %s;\\n' % recondir \n",
    "# line4 = 'echo HELLO' # here make a for loop that calls another script (list)\n",
    "# line5 = # read line from file\n",
    "# line6 = 'foreach s (*)'\n",
    "# line7 = 'pbsubmit \"recon-all all -subjid ${s}\"'\n",
    "# line8 = 'sleep 10'\n",
    "# line9 = 'end'\n",
    "# file = open(reconbash, \"w\")\n",
    "# file.writelines([line0, line1, line2, line3, line4])\n",
    "# file.close()\n",
    "\n",
    "# cmd = subprocess.Popen(['bash',reconbash])\n",
    "#system(cmd)\n"
   ]
  }
 ],
 "metadata": {
  "kernelspec": {
   "display_name": "Python 3",
   "language": "python",
   "name": "python3"
  },
  "language_info": {
   "codemirror_mode": {
    "name": "ipython",
    "version": 3
   },
   "file_extension": ".py",
   "mimetype": "text/x-python",
   "name": "python",
   "nbconvert_exporter": "python",
   "pygments_lexer": "ipython3",
   "version": "3.6.6"
  }
 },
 "nbformat": 4,
 "nbformat_minor": 2
}
