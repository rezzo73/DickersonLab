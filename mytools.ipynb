{
 "cells": [
  {
   "cell_type": "code",
   "execution_count": null,
   "metadata": {},
   "outputs": [],
   "source": [
    "def parse_scaninfo(origpath):\n",
    "    with open(origpath+'/scan.info', 'r') as in_file:\n",
    "        editline = line.split()\n",
    "        with open(origpath+'/scaninfo.csv', 'w') as result:\n",
    "            wr = csv.writer(result, dialect='excel')\n",
    "            wr.writerow(editline)\n",
    "            result.close()\n",
    "    in_file.close()"
   ]
  }
 ],
 "metadata": {
  "kernelspec": {
   "display_name": "Python 3",
   "language": "python",
   "name": "python3"
  },
  "language_info": {
   "codemirror_mode": {
    "name": "ipython",
    "version": 3
   },
   "file_extension": ".py",
   "mimetype": "text/x-python",
   "name": "python",
   "nbconvert_exporter": "python",
   "pygments_lexer": "ipython3",
   "version": "3.6.6"
  }
 },
 "nbformat": 4,
 "nbformat_minor": 2
}
